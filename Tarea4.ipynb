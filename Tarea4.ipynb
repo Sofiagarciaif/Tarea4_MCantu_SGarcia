{
 "cells": [
  {
   "cell_type": "markdown",
   "metadata": {},
   "source": [
    "<img style=\"float: left; margin: 30px 15px 15px 15px;\" src=\"https://pngimage.net/wp-content/uploads/2018/06/logo-iteso-png-5.png\" width=\"300\" height=\"500\" /> \n",
    "    \n",
    "    \n",
    "### <font color='navy'> Simulación de procesos financieros. \n",
    "\n",
    "**Nombres:** Maria Jose Cantu y Sofia Garcia Mora\n",
    "\n",
    "**Fecha:** 30 de septiembre del 2020.\n",
    "\n",
    "**Expediente** : if708916 y if714303\n",
    "**Profesor:** Oscar David Jaramillo Zuluaga.\n",
    "\n",
    "# Tarea 4: Clase 9 Y 10"
   ]
  },
  {
   "cell_type": "markdown",
   "metadata": {},
   "source": [
    "### Ejercicio 1: \n",
    "> 1. Generación variable aleatoria continua\n",
    ">El tiempo en el cual un movimiento browniano se mantiene sobre su punto máximo en el intervalo [0,1] tiene una distribución\n",
    ">$$F(x)=\\frac{2}{\\pi}\\sin^{-1}(\\sqrt x),\\quad 0\\leq x\\leq 1$$ </font>"
   ]
  },
  {
   "cell_type": "markdown",
   "metadata": {},
   "source": [
    "#### RESPUESTA SOFIA "
   ]
  },
  {
   "cell_type": "code",
   "execution_count": 6,
   "metadata": {},
   "outputs": [],
   "source": [
    "import matplotlib.pyplot as plt\n",
    "import numpy as np\n",
    "%matplotlib inline\n",
    "from scipy import optimize"
   ]
  },
  {
   "cell_type": "code",
   "execution_count": 7,
   "metadata": {},
   "outputs": [],
   "source": [
    "# Código de solución \n",
    "def comparar_aleatorios_densidad(f, Finv, N):\n",
    "    '''Funcion que compara la funcion de densidad de probabilidad \n",
    "    con variables alearorias que distribuyen igual que f(x)'''\n",
    "    #N:cantidad de terminos f:funcion de densidad de probabilidad Finv: x  despejada \n",
    "    u=np.random.uniform(0,1,N)\n",
    "    f_rand=Finv(u)\n",
    "    x=np.arange(0,1,.01)\n",
    "    f_densidad=f(x)\n",
    "    plt.hist(f_rand,density=True, bins=30)\n",
    "    plt.plot(x,f_densidad)\n",
    "    plt.show()"
   ]
  },
  {
   "cell_type": "markdown",
   "metadata": {},
   "source": [
    "$$F(x)=\\frac{2}{\\pi}\\sin^{-1}(\\sqrt x)$$\n",
    "\n",
    "$$U=\\frac{2}{\\pi}\\sin^{-1}(\\sqrt x)$$\n",
    "\n",
    "Despejando x:\n",
    "$$x=\\sin (\\frac{\\pi U}{2})^2= F_{inv}$$\n",
    "\n",
    "Funcion de densidad de probabilidad:\n",
    "\n",
    "$$f(x)=\\frac{d}{dx} F(x)$$\n",
    "\n",
    "$$f(x)=\\frac{d}{dx} (\\frac{2}{\\pi}\\sin^{-1}(\\sqrt x))$$\n",
    "\n",
    "$$f(x)=\\frac{1}{\\sqrt {1-x} \\sqrt x  \\pi}$$ "
   ]
  },
  {
   "cell_type": "code",
   "execution_count": 8,
   "metadata": {},
   "outputs": [
    {
     "name": "stderr",
     "output_type": "stream",
     "text": [
      "//anaconda3/lib/python3.7/site-packages/ipykernel_launcher.py:1: RuntimeWarning: divide by zero encountered in true_divide\n",
      "  \"\"\"Entry point for launching an IPython kernel.\n"
     ]
    },
    {
     "data": {
      "image/png": "[encoded data removed]",
      "text/plain": [
       "<Figure size 432x288 with 1 Axes>"
      ]
     },
     "metadata": {
      "needs_background": "light"
     },
     "output_type": "display_data"
    }
   ],
   "source": [
    "f= lambda x: 1/((np.sqrt(1-x))*np.sqrt(x)*np.pi)\n",
    "Finv= lambda u: (np.sin(u*np.pi/2))**2\n",
    "N= 10000\n",
    "comparar_aleatorios_densidad(f,Finv,N)"
   ]
  },
  {
   "cell_type": "markdown",
   "metadata": {},
   "source": [
    "#### RESPUESTA MAJO"
   ]
  },
  {
   "cell_type": "code",
   "execution_count": 2,
   "metadata": {},
   "outputs": [
    {
     "name": "stderr",
     "output_type": "stream",
     "text": [
      "//anaconda3/lib/python3.7/site-packages/ipykernel_launcher.py:17: RuntimeWarning: divide by zero encountered in true_divide\n"
     ]
    },
    {
     "data": {
      "text/plain": [
       "<Figure size 640x480 with 1 Axes>"
      ]
     },
     "metadata": {},
     "output_type": "display_data"
    }
   ],
   "source": [
    "# Código de solución\n",
    "import numpy as np\n",
    "import matplotlib.pyplot as plt\n",
    "import math\n",
    "#Para la inversa\n",
    "def brown(n:\"numero de veces a iterar\"):\n",
    "    '''\n",
    "    Esta funcion te regresa la funcion inversa con N cantidad de numeros aleatorios de el mov. brown\n",
    "    '''\n",
    "    return np.sin((math.pi*np.random.uniform(0,1,n))/2)**2 #Funcion inversa\n",
    "n=10**4 #Numero a generar de aleatorios\n",
    "v=brown(n) #llamamos nuestra funcion\n",
    "\n",
    "\n",
    "#Ahora para la derivada\n",
    "x=np.arange(0,1,.001) #rango de numeros los cuales evaluaremos con la derivada\n",
    "y=1/(math.pi*np.sqrt(-(x-1)*x)) #Funcion derivada\n",
    "\n",
    "#Graficamos el historial para v\n",
    "plt.hist(v,100,density=True) #Histograma de aleatorios\n",
    "plt.xlabel('punto')\n",
    "plt.ylabel('tiempo')\n",
    "plt.title('histograma función de numpy')\n",
    "plt.plot(x,y,'r') #Linea de la derivada\n",
    "plt.show()"
   ]
  },
  {
   "cell_type": "markdown",
   "metadata": {},
   "source": [
    "### Respuesta planteada en el ejercicio usando (markdown)\n",
    " La respuesta es ........."
   ]
  },
  {
   "cell_type": "markdown",
   "metadata": {},
   "source": [
    "### Ejercicio 2: \n",
    "> 2. Generación variable aleatoria Discreta\n",
    "> La distribución binomial modela el número de éxitos de n ensayos independientes donde hay una probabilidad p de éxito en cada ensayo.\n",
    "> Generar una variable aletoria binomial con parámetros $n=10$ y $p=0.7$. Recordar que $$X\\sim binomial(n,p) \\longrightarrow p_i=P(X=i)=\\frac{n!}{i!(n-i)!}p^i(1-p)^{n-i},\\quad i=0,1,\\cdots,n$$\n",
    "> Por propiedades de la operación factorial la anterior $p_i$ se puede escribir como:\n",
    "> $$p_{i+1}=\\frac{n-i}{i+1}\\frac{p}{1-p} p_i $$\n",
    "\n",
    "> **Nota:** Por notación recuerde que para el caso continuo $f(x)$ es la distribución de probabilidad (PDF), mientras $F(x)$ corresponde a la distribución de probabilidad acumulada (CDF). Para el caso discreto, $P(X=i)$ corresponde a su distribución de probabilidad (PMF) y $ F_{X}(x)=\\operatorname {P} (X\\leq x)=\\sum _{x_{i}\\leq x}\\operatorname {P} (X=x_{i})=\\sum _{x_{i}\\leq x}p(x_{i})$, corresponde a su distribución de probabilidad acumulada (CDF).\n",
    "\n",
    "Genere muestres aleatorias que distribuyan según la función dada usando el método de la transformada inversa y grafique el histograma de 100 muestras generadas con el método y compárela con el función $f(x)$ dada, esto con el fín de validar que el procedimiento fue realizado de manera correcta"
   ]
  },
  {
   "cell_type": "markdown",
   "metadata": {},
   "source": [
    "#### RESPUESTA SOFIA "
   ]
  },
  {
   "cell_type": "code",
   "execution_count": null,
   "metadata": {},
   "outputs": [],
   "source": []
  },
  {
   "cell_type": "markdown",
   "metadata": {},
   "source": [
    "#### RESPUESTA MAJO"
   ]
  },
  {
   "cell_type": "code",
   "execution_count": null,
   "metadata": {},
   "outputs": [],
   "source": [
    "def P_acum_Poisson_o(k,l):\n",
    "    global Pr\n",
    "    Pr = np.zeros(k)\n",
    "    Pr[0] = np.exp(-l)\n",
    "    def pr(i):\n",
    "        global Pr\n",
    "        Pr[i+1]=l/(i+1)*Pr[i]\n",
    "        \n",
    "    # Lleno el vector Pr usando compresión de listas\n",
    "    [pr(i) for i in range(k-1)]\n",
    "    return np.cumsum(Pr)"
   ]
  },
  {
   "cell_type": "code",
   "execution_count": null,
   "metadata": {},
   "outputs": [],
   "source": [
    "n = 12; l = 4; N = 10**4\n",
    "\n",
    "p_acum = P_acum_Poisson_o(n,l)\n",
    "u = np.random.rand(N)\n",
    "\n",
    "# Gráfica de resultados\n",
    "plt.figure(figsize=[13,4])\n",
    "plt.subplot(121)\n",
    "d_pois = list(map(lambda j:sum(1 for i in p_acum if i<u[j]),range(N)))\n",
    "plt.hist(d_pois,100,density=True,label='Usando función creada')\n",
    "plt.legend()\n",
    "\n",
    "plt.subplot(122)\n",
    "d_pois_numpy = np.random.poisson(l,N)\n",
    "plt.hist(d_pois_numpy,100,density=True,label='Usando Numpy')\n",
    "plt.legend()\n",
    "np.histogram\n",
    "plt.show()\n"
   ]
  },
  {
   "cell_type": "markdown",
   "metadata": {},
   "source": [
    "### Respuesta planteada en el ejercicio usando (markdown)\n",
    " La respuesta es ........."
   ]
  },
  {
   "cell_type": "markdown",
   "metadata": {},
   "source": [
    "### Ejercicio 3: \n",
    "Partiendo que se desea generar variables aleatorias para la siguiente función de densidad\n",
    "$$f(x)=30(x^2-2x^3+x^4)$$\n",
    "Responda los siguientes literales:\n",
    "1. Usar como función que mayora a $f(x)$ a $t(x)=a \\sin(\\pi x)$ donde a es el máximo de la función $f(x)$ y graficarlas en una misma gráfica, para validar que en realidad si cumple la condición $t(x)\\geq f(x)$."
   ]
  },
  {
   "cell_type": "markdown",
   "metadata": {},
   "source": [
    "#### RESPUESTA SOFIA "
   ]
  },
  {
   "cell_type": "code",
   "execution_count": 4,
   "metadata": {},
   "outputs": [],
   "source": [
    "import matplotlib.pyplot as plt\n",
    "import numpy as np\n",
    "%matplotlib inline\n",
    "from scipy import optimize"
   ]
  },
  {
   "cell_type": "code",
   "execution_count": 9,
   "metadata": {
    "scrolled": true
   },
   "outputs": [
    {
     "data": {
      "text/plain": [
       "<matplotlib.legend.Legend at 0x1021652908>"
      ]
     },
     "execution_count": 9,
     "metadata": {},
     "output_type": "execute_result"
    },
    {
     "data": {
      "image/png": "[encoded data removed]",
      "text/plain": [
       "<Figure size 432x288 with 1 Axes>"
      ]
     },
     "metadata": {
      "needs_background": "light"
     },
     "output_type": "display_data"
    }
   ],
   "source": [
    "#INCISO 1:\n",
    "#graficar f(x) y t(x) para ver si t(x) es mas grande que f(x)\n",
    "# Función objetivo \n",
    "f = lambda x:30*(x**2-2*x**3+x**4)\n",
    "# Máximo de la función f\n",
    "max_f = f(optimize.fmin(lambda x:-f(x),0,disp=False)) #se esta encontrando el maximo al agregar el - y sacarle el minimo \n",
    "# Función t \n",
    "t = lambda x: max_f*np.sin(x*np.pi)\n",
    "\n",
    "x = np.arange(0,1,0.01)  # Rango donde se graficará las funciones\n",
    "\n",
    "# Gráficas de las funciones t(x) y f(x)\n",
    "plt.plot(x,f(x),label='f(x)')\n",
    "plt.plot(x,t(x),label='t(x)')\n",
    "plt.legend()"
   ]
  },
  {
   "cell_type": "markdown",
   "metadata": {},
   "source": [
    "2. Encontrar la función de densidad $g(x)$ según lo visto en clase. Reportar todos los cálculos realizados para encontrar dicha función usando Markdown (Latex)."
   ]
  },
  {
   "cell_type": "markdown",
   "metadata": {},
   "source": [
    "#### RESPUESTA SOFIA "
   ]
  },
  {
   "cell_type": "markdown",
   "metadata": {},
   "source": [
    "#INCISO 2\n",
    "\n",
    "Sabemos que $g(x) = \\frac{t}{c}$ siendo g(x) una densidad\n",
    "\n",
    "$$c=\\int_{0}^{1} t(x)dx$$ \n",
    "\n",
    "$$c=\\int_{0}^{1} (a \\sin(\\pi x))dx$$ \n",
    "\n",
    "ya que t(x) esta definida entre 0 y 1 y a=1.875\n",
    "$$c=\\int_{0}^{1} 1.875 (\\sin(\\pi x))dx$$\n",
    "\n",
    "$$c=-\\frac{1.875}{\\pi} cos(\\pi x)|_{0}^{1} $$\n",
    "\n",
    "$$c=\\frac {3.75}{\\pi}$$\n",
    "\n",
    "Entonces $$g(x)= \\frac{1.875 \\sin(\\pi x)}{\\frac {3.75}{\\pi}}$$\n",
    "\n",
    "$$g(x)= 0.5 \\pi \\sin(\\pi x)$$\n"
   ]
  },
  {
   "cell_type": "markdown",
   "metadata": {},
   "source": [
    "3. Usar la función encontrada en el punto 2 y utilizar el método de la transformada inversa visto en la clase 9, para generar variables aleatorias que sigan la distribución $g(x)$. **Nota:** Recuerde que el método de la transformada inversa funciona con la distribución de probabilidad acumulada y no con su densidad. Nuevamente similar al punto anterior reportar todos los cálculos usando Markdown (Latex). "
   ]
  },
  {
   "cell_type": "markdown",
   "metadata": {},
   "source": [
    "#### RESPUESTA SOFIA "
   ]
  },
  {
   "cell_type": "markdown",
   "metadata": {},
   "source": [
    "#INCISO 3\n",
    "\n",
    "$$U= 0.5 \\pi \\sin(\\pi x)$$\n",
    "\n",
    "Despejando x:\n",
    "$$x=\\frac {\\sin^{-1}(U \\frac{2}{\\pi})}{\\pi}$$\n",
    "\n",
    "Para encontar la acumulada y asi encontar la inversea\n",
    "$$G(x)=\\int_{0}^{x} g(x) dx$$\n",
    "\n",
    "$$G(x)=\\int_{0}^{x} (0.5 \\pi \\sin(\\pi x)) dx$$\n",
    "\n",
    "$$G(x)= (0.5  \\cos(\\pi x))$$"
   ]
  },
  {
   "cell_type": "markdown",
   "metadata": {},
   "source": [
    "4. Según el punto 3, generar 10000 puntos aleatorios que sigan la distribución $g(x)$ y comparar con su histograma para validar que los puntos generados siguen la distribución deseada. El resultado debe ser como sigue:\n",
    "![imagen.png](attachment:imagen.png)"
   ]
  },
  {
   "cell_type": "markdown",
   "metadata": {},
   "source": [
    "#### RESPUESTA SOFIA "
   ]
  },
  {
   "cell_type": "code",
   "execution_count": 11,
   "metadata": {},
   "outputs": [
    {
     "data": {
      "image/png": "[encoded data removed]",
      "text/plain": [
       "<Figure size 432x288 with 1 Axes>"
      ]
     },
     "metadata": {
      "needs_background": "light"
     },
     "output_type": "display_data"
    }
   ],
   "source": [
    "g= lambda x: (np.pi/2)*np.sin(np.pi*x)\n",
    "G_inv= lambda u: (1/np.pi)*np.arccos(-2*u+1)\n",
    "N=10000\n",
    " \n",
    "comparar_aleatorios_densidad(g,G_inv,N)"
   ]
  },
  {
   "cell_type": "markdown",
   "metadata": {},
   "source": [
    "5. Genere 500 puntos aleatorios usando el método de aceptación y rechazo y las funciones $f(x)$ y $t(x)$ para validar que todos los cálculos anteriores están correctamente realizados. El resultado debe de ser como sigue:\n",
    "![imagen.png](attachment:imagen.png)"
   ]
  },
  {
   "cell_type": "markdown",
   "metadata": {},
   "source": [
    "#### RESPUESTA SOFIA "
   ]
  },
  {
   "cell_type": "code",
   "execution_count": null,
   "metadata": {},
   "outputs": [],
   "source": []
  },
  {
   "cell_type": "markdown",
   "metadata": {},
   "source": [
    "6. Comparar el porcentaje de puntos de aceptación cuando se usa $t(x)$ constante y $t(x)$ un pulso senoidal. Concluir"
   ]
  },
  {
   "cell_type": "markdown",
   "metadata": {},
   "source": [
    "#### RESPUESTA SOFIA "
   ]
  },
  {
   "cell_type": "code",
   "execution_count": null,
   "metadata": {},
   "outputs": [],
   "source": []
  },
  {
   "cell_type": "markdown",
   "metadata": {},
   "source": [
    "7. Genere una variable aleatoria $X$ a partir de la siguiente PDF\n",
    "$$f(x)=20x(1-x)^3$$ \n",
    "usando el método de aceptación y rechazo"
   ]
  },
  {
   "cell_type": "markdown",
   "metadata": {},
   "source": [
    "#### RESPUESTA SOFIA "
   ]
  },
  {
   "cell_type": "code",
   "execution_count": null,
   "metadata": {},
   "outputs": [],
   "source": []
  }
 ],
 "metadata": {
  "kernelspec": {
   "display_name": "Python 3",
   "language": "python",
   "name": "python3"
  },
  "language_info": {
   "codemirror_mode": {
    "name": "ipython",
    "version": 3
   },
   "file_extension": ".py",
   "mimetype": "text/x-python",
   "name": "python",
   "nbconvert_exporter": "python",
   "pygments_lexer": "ipython3",
   "version": "3.7.3"
  }
 },
 "nbformat": 4,
 "nbformat_minor": 2
}
